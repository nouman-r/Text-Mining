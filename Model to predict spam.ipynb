{
 "cells": [
  {
   "cell_type": "markdown",
   "metadata": {},
   "source": [
    "---\n",
    "\n",
    "_You are currently looking at **version 1.1** of this notebook. To download notebooks and datafiles, as well as get help on Jupyter notebooks in the Coursera platform, visit the [Jupyter Notebook FAQ](https://www.coursera.org/learn/python-text-mining/resources/d9pwm) course resource._\n",
    "\n",
    "---"
   ]
  },
  {
   "cell_type": "markdown",
   "metadata": {},
   "source": [
    "# Assignment 3\n",
    "\n",
    "In this assignment you will explore text message data and create models to predict if a message is spam or not. "
   ]
  },
  {
   "cell_type": "code",
   "execution_count": 52,
   "metadata": {},
   "outputs": [
    {
     "data": {
      "text/html": [
       "<div>\n",
       "<style scoped>\n",
       "    .dataframe tbody tr th:only-of-type {\n",
       "        vertical-align: middle;\n",
       "    }\n",
       "\n",
       "    .dataframe tbody tr th {\n",
       "        vertical-align: top;\n",
       "    }\n",
       "\n",
       "    .dataframe thead th {\n",
       "        text-align: right;\n",
       "    }\n",
       "</style>\n",
       "<table border=\"1\" class=\"dataframe\">\n",
       "  <thead>\n",
       "    <tr style=\"text-align: right;\">\n",
       "      <th></th>\n",
       "      <th>text</th>\n",
       "      <th>target</th>\n",
       "    </tr>\n",
       "  </thead>\n",
       "  <tbody>\n",
       "    <tr>\n",
       "      <th>0</th>\n",
       "      <td>Go until jurong point, crazy.. Available only ...</td>\n",
       "      <td>0</td>\n",
       "    </tr>\n",
       "    <tr>\n",
       "      <th>1</th>\n",
       "      <td>Ok lar... Joking wif u oni...</td>\n",
       "      <td>0</td>\n",
       "    </tr>\n",
       "    <tr>\n",
       "      <th>2</th>\n",
       "      <td>Free entry in 2 a wkly comp to win FA Cup fina...</td>\n",
       "      <td>1</td>\n",
       "    </tr>\n",
       "    <tr>\n",
       "      <th>3</th>\n",
       "      <td>U dun say so early hor... U c already then say...</td>\n",
       "      <td>0</td>\n",
       "    </tr>\n",
       "    <tr>\n",
       "      <th>4</th>\n",
       "      <td>Nah I don't think he goes to usf, he lives aro...</td>\n",
       "      <td>0</td>\n",
       "    </tr>\n",
       "    <tr>\n",
       "      <th>5</th>\n",
       "      <td>FreeMsg Hey there darling it's been 3 week's n...</td>\n",
       "      <td>1</td>\n",
       "    </tr>\n",
       "    <tr>\n",
       "      <th>6</th>\n",
       "      <td>Even my brother is not like to speak with me. ...</td>\n",
       "      <td>0</td>\n",
       "    </tr>\n",
       "    <tr>\n",
       "      <th>7</th>\n",
       "      <td>As per your request 'Melle Melle (Oru Minnamin...</td>\n",
       "      <td>0</td>\n",
       "    </tr>\n",
       "    <tr>\n",
       "      <th>8</th>\n",
       "      <td>WINNER!! As a valued network customer you have...</td>\n",
       "      <td>1</td>\n",
       "    </tr>\n",
       "    <tr>\n",
       "      <th>9</th>\n",
       "      <td>Had your mobile 11 months or more? U R entitle...</td>\n",
       "      <td>1</td>\n",
       "    </tr>\n",
       "  </tbody>\n",
       "</table>\n",
       "</div>"
      ],
      "text/plain": [
       "                                                text  target\n",
       "0  Go until jurong point, crazy.. Available only ...       0\n",
       "1                      Ok lar... Joking wif u oni...       0\n",
       "2  Free entry in 2 a wkly comp to win FA Cup fina...       1\n",
       "3  U dun say so early hor... U c already then say...       0\n",
       "4  Nah I don't think he goes to usf, he lives aro...       0\n",
       "5  FreeMsg Hey there darling it's been 3 week's n...       1\n",
       "6  Even my brother is not like to speak with me. ...       0\n",
       "7  As per your request 'Melle Melle (Oru Minnamin...       0\n",
       "8  WINNER!! As a valued network customer you have...       1\n",
       "9  Had your mobile 11 months or more? U R entitle...       1"
      ]
     },
     "execution_count": 52,
     "metadata": {},
     "output_type": "execute_result"
    }
   ],
   "source": [
    "import pandas as pd\n",
    "import numpy as np\n",
    "\n",
    "spam_data = pd.read_csv('spam.csv')\n",
    "\n",
    "spam_data['target'] = np.where(spam_data['target']=='spam',1,0)\n",
    "spam_data.head(10)"
   ]
  },
  {
   "cell_type": "code",
   "execution_count": 53,
   "metadata": {},
   "outputs": [],
   "source": [
    "from sklearn.model_selection import train_test_split\n",
    "\n",
    "\n",
    "X_train, X_test, y_train, y_test = train_test_split(spam_data['text'], \n",
    "                                                    spam_data['target'], \n",
    "                                                    random_state=0)"
   ]
  },
  {
   "cell_type": "markdown",
   "metadata": {},
   "source": [
    "### Question 1\n",
    "What percentage of the documents in `spam_data` are spam?\n",
    "\n",
    "*This function should return a float, the percent value (i.e. $ratio * 100$).*"
   ]
  },
  {
   "cell_type": "code",
   "execution_count": 54,
   "metadata": {},
   "outputs": [],
   "source": [
    "def answer_one():\n",
    "    \n",
    "    \n",
    "    return (len(spam_data[spam_data['target'] == 1])/len(spam_data)*100)\n",
    "\n"
   ]
  },
  {
   "cell_type": "code",
   "execution_count": 55,
   "metadata": {},
   "outputs": [
    {
     "data": {
      "text/plain": [
       "13.406317300789663"
      ]
     },
     "execution_count": 55,
     "metadata": {},
     "output_type": "execute_result"
    }
   ],
   "source": [
    "answer_one()"
   ]
  },
  {
   "cell_type": "markdown",
   "metadata": {},
   "source": [
    "### Question 2\n",
    "\n",
    "Fit the training data `X_train` using a Count Vectorizer with default parameters.\n",
    "\n",
    "What is the longest token in the vocabulary?\n",
    "\n",
    "*This function should return a string.*"
   ]
  },
  {
   "cell_type": "code",
   "execution_count": 56,
   "metadata": {},
   "outputs": [],
   "source": [
    "from sklearn.feature_extraction.text import CountVectorizer\n",
    "\n",
    "def answer_two():\n",
    "       \n",
    "    vect = CountVectorizer().fit(X_train)    \n",
    "    vocab = list(vect.vocabulary_.keys())\n",
    "    return (max(vocab, key=lambda x: len(x)))\n"
   ]
  },
  {
   "cell_type": "code",
   "execution_count": 57,
   "metadata": {},
   "outputs": [
    {
     "data": {
      "text/plain": [
       "'com1win150ppmx3age16subscription'"
      ]
     },
     "execution_count": 57,
     "metadata": {},
     "output_type": "execute_result"
    }
   ],
   "source": [
    "answer_two()"
   ]
  },
  {
   "cell_type": "markdown",
   "metadata": {},
   "source": [
    "### Question 3\n",
    "\n",
    "Fit and transform the training data `X_train` using a Count Vectorizer with default parameters.\n",
    "\n",
    "Next, fit a fit a multinomial Naive Bayes classifier model with smoothing `alpha=0.1`. Find the area under the curve (AUC) score using the transformed test data.\n",
    "\n",
    "*This function should return the AUC score as a float.*"
   ]
  },
  {
   "cell_type": "code",
   "execution_count": 58,
   "metadata": {},
   "outputs": [],
   "source": [
    "from sklearn.naive_bayes import MultinomialNB\n",
    "from sklearn.metrics import roc_auc_score\n",
    "\n",
    "def answer_three():\n",
    "    vect = CountVectorizer().fit(X_train) # instantiate CountVectorizer and fit to training set to to learn a vocabulary.\n",
    "    X_trainVect = vect.transform(X_train) # Vectorize the training set from the learne vocabulary\n",
    "    model = MultinomialNB(alpha=0.1, fit_prior=True, class_prior=None) # instantiate NB Multinomial model.\n",
    "    model.fit(X_trainVect, y_train) # train the model with training data\n",
    "\n",
    "    X_testVect = vect.transform(X_test) # vectorize the test data\n",
    "    NB_Prediction = model.predict(X_testVect) # predict using the trained NB model on test data\n",
    "\n",
    "    aucScore = roc_auc_score(y_test, NB_Prediction) # check the AUC score\n",
    "    \n",
    "    return aucScore\n",
    "\n"
   ]
  },
  {
   "cell_type": "code",
   "execution_count": 59,
   "metadata": {},
   "outputs": [
    {
     "data": {
      "text/plain": [
       "0.9720812182741116"
      ]
     },
     "execution_count": 59,
     "metadata": {},
     "output_type": "execute_result"
    }
   ],
   "source": [
    "answer_three()"
   ]
  },
  {
   "cell_type": "markdown",
   "metadata": {},
   "source": [
    "### Question 4\n",
    "\n",
    "Fit and transform the training data `X_train` using a Tfidf Vectorizer with default parameters.\n",
    "\n",
    "What 20 features have the smallest tf-idf and what 20 have the largest tf-idf?\n",
    "\n",
    "Put these features in a two series where each series is sorted by tf-idf value and then alphabetically by feature name. The index of the series should be the feature name, and the data should be the tf-idf.\n",
    "\n",
    "The series of 20 features with smallest tf-idfs should be sorted smallest tfidf first, the list of 20 features with largest tf-idfs should be sorted largest first. \n",
    "\n",
    "*This function should return a tuple of two series\n",
    "`(smallest tf-idfs series, largest tf-idfs series)`.*"
   ]
  },
  {
   "cell_type": "code",
   "execution_count": 60,
   "metadata": {},
   "outputs": [],
   "source": [
    "from sklearn.feature_extraction.text import TfidfVectorizer\n",
    "\n",
    "def answer_four():\n",
    "    \n",
    "    vect = TfidfVectorizer().fit(X_train) # instantiate and fit \n",
    "\n",
    "    X_TrainVect_tfidf = vect.transform(X_train) # vectorize training set\n",
    "\n",
    "    sorted_tfidf_index = X_TrainVect_tfidf.max(axis=0).toarray()[0].argsort() \n",
    "    #.max(axis=0) return a row vector with maximum values from each colum. this is converted to array and then sorted.\n",
    "    # argsort() is indirect sort, that sorted the indicies based on the values\n",
    "\n",
    "    feature_names = np.array(vect.get_feature_names()) # array of feature names\n",
    "\n",
    "    #a = X_TrainVect_tfidf.max(0).toarray().argsort()\n",
    "    b = X_TrainVect_tfidf.max(0).toarray()[0] \n",
    "    # return one dimensional array with 7354 elements. Each correspond to max value for each feature\n",
    "    \n",
    "    tfidf_Series = pd.Series(b, index = feature_names)\n",
    "    # Panda series with feature names as index and array with tfidf values as data\n",
    "    \n",
    "    smallest_tfidf = tfidf_Series.iloc[np.lexsort([tfidf_Series.index, tfidf_Series.values])][:20]\n",
    "    \n",
    "    #smallest_tfidf = pd.Series(index = feature_names[sorted_tfidf_index[:20]], data =sorted_tfidf_index[:20])\n",
    "    #smallest_tfidf = Smallest_tfidf.iloc[np.lexsort([Smallest_tfidf.index, Smallest_tfidf.values])]\n",
    "\n",
    "    # np.lexsort to sort by values first and then by index. It's in indirect sort, so it sorts the indicies hence using\n",
    "    # .iloc to look up the values.\n",
    "\n",
    "    largest_tfidf = tfidf_Series.iloc[np.lexsort([tfidf_Series.index, -tfidf_Series.values])][:20]\n",
    "    \n",
    "    \n",
    "    #largest_ = sorted(name_idfs, key = lambda x: x[1], reverse = True )[:20]\n",
    "    #largest_tfidf = pd.Series([items[1] for items in largest_ ], index = [items[0] for items in largest_ ])\n",
    "\n",
    "    #    largest_tfidf = pd.Series(index=feature_names[sorted_tfidf_index[:-21:-1]], data=sorted_tfidf_index[:-21:-1])\n",
    "    #    largest_tfidf = largest_tfidf.iloc[np.lexsort([largest_tfidf.index, -largest_tfidf.values])]\n",
    "\n",
    "\n",
    "\n",
    "    return (smallest_tfidf, largest_tfidf)\n"
   ]
  },
  {
   "cell_type": "code",
   "execution_count": 61,
   "metadata": {},
   "outputs": [
    {
     "name": "stdout",
     "output_type": "stream",
     "text": [
      "training set size: (4179, 1468)\n"
     ]
    },
    {
     "ename": "NameError",
     "evalue": "name 'X_testVect' is not defined",
     "output_type": "error",
     "traceback": [
      "\u001b[1;31m---------------------------------------------------------------------------\u001b[0m",
      "\u001b[1;31mNameError\u001b[0m                                 Traceback (most recent call last)",
      "\u001b[1;32m<ipython-input-61-5276998e3fe6>\u001b[0m in \u001b[0;36m<module>\u001b[1;34m\u001b[0m\n\u001b[0;32m      2\u001b[0m \u001b[1;33m\u001b[0m\u001b[0m\n\u001b[0;32m      3\u001b[0m \u001b[0mprint\u001b[0m\u001b[1;33m(\u001b[0m\u001b[1;34m'training set size:'\u001b[0m\u001b[1;33m,\u001b[0m \u001b[0mX_TrainVect_tfidf\u001b[0m\u001b[1;33m.\u001b[0m\u001b[0mtoarray\u001b[0m\u001b[1;33m(\u001b[0m\u001b[1;33m)\u001b[0m\u001b[1;33m.\u001b[0m\u001b[0mshape\u001b[0m\u001b[1;33m)\u001b[0m\u001b[1;33m\u001b[0m\u001b[1;33m\u001b[0m\u001b[0m\n\u001b[1;32m----> 4\u001b[1;33m \u001b[0mprint\u001b[0m\u001b[1;33m(\u001b[0m\u001b[1;34m'test set size:'\u001b[0m\u001b[1;33m,\u001b[0m \u001b[0mX_testVect\u001b[0m\u001b[1;33m.\u001b[0m\u001b[0mtoarray\u001b[0m\u001b[1;33m(\u001b[0m\u001b[1;33m)\u001b[0m\u001b[1;33m.\u001b[0m\u001b[0mshape\u001b[0m\u001b[1;33m)\u001b[0m\u001b[1;33m\u001b[0m\u001b[1;33m\u001b[0m\u001b[0m\n\u001b[0m\u001b[0;32m      5\u001b[0m \u001b[0mprint\u001b[0m\u001b[1;33m(\u001b[0m\u001b[1;34m'raw data length:'\u001b[0m\u001b[1;33m,\u001b[0m \u001b[0mspam_data\u001b[0m\u001b[1;33m.\u001b[0m\u001b[0mshape\u001b[0m\u001b[1;33m)\u001b[0m\u001b[1;33m\u001b[0m\u001b[1;33m\u001b[0m\u001b[0m\n\u001b[0;32m      6\u001b[0m \u001b[0mvect\u001b[0m\u001b[1;33m.\u001b[0m\u001b[0mvocabulary_\u001b[0m\u001b[1;33m\u001b[0m\u001b[1;33m\u001b[0m\u001b[0m\n",
      "\u001b[1;31mNameError\u001b[0m: name 'X_testVect' is not defined"
     ]
    }
   ],
   "source": [
    "## Rough work ## \n",
    "\n",
    "print('training set size:', X_TrainVect_tfidf.toarray().shape)\n",
    "print('test set size:', X_testVect.toarray().shape)\n",
    "print('raw data length:', spam_data.shape)\n",
    "vect.vocabulary_"
   ]
  },
  {
   "cell_type": "code",
   "execution_count": 62,
   "metadata": {
    "scrolled": true
   },
   "outputs": [
    {
     "data": {
      "text/plain": [
       "(aaniye          0.074475\n",
       " athletic        0.074475\n",
       " chef            0.074475\n",
       " companion       0.074475\n",
       " courageous      0.074475\n",
       " dependable      0.074475\n",
       " determined      0.074475\n",
       " exterminator    0.074475\n",
       " healer          0.074475\n",
       " listener        0.074475\n",
       " organizer       0.074475\n",
       " pest            0.074475\n",
       " psychiatrist    0.074475\n",
       " psychologist    0.074475\n",
       " pudunga         0.074475\n",
       " stylist         0.074475\n",
       " sympathetic     0.074475\n",
       " venaam          0.074475\n",
       " afternoons      0.091250\n",
       " approaching     0.091250\n",
       " dtype: float64, 146tf150p    1.000000\n",
       " 645          1.000000\n",
       " anything     1.000000\n",
       " anytime      1.000000\n",
       " beerage      1.000000\n",
       " done         1.000000\n",
       " er           1.000000\n",
       " havent       1.000000\n",
       " home         1.000000\n",
       " lei          1.000000\n",
       " nite         1.000000\n",
       " ok           1.000000\n",
       " okie         1.000000\n",
       " thank        1.000000\n",
       " thanx        1.000000\n",
       " too          1.000000\n",
       " where        1.000000\n",
       " yup          1.000000\n",
       " tick         0.980166\n",
       " blank        0.932702\n",
       " dtype: float64)"
      ]
     },
     "execution_count": 62,
     "metadata": {},
     "output_type": "execute_result"
    }
   ],
   "source": [
    "answer_four()"
   ]
  },
  {
   "cell_type": "markdown",
   "metadata": {},
   "source": [
    "### Question 5\n",
    "\n",
    "Fit and transform the training data `X_train` using a Tfidf Vectorizer ignoring terms that have a document frequency strictly lower than **3**.\n",
    "\n",
    "Then fit a multinomial Naive Bayes classifier model with smoothing `alpha=0.1` and compute the area under the curve (AUC) score using the transformed test data.\n",
    "\n",
    "*This function should return the AUC score as a float.*"
   ]
  },
  {
   "cell_type": "code",
   "execution_count": 63,
   "metadata": {},
   "outputs": [],
   "source": [
    "def answer_five():\n",
    "    \n",
    "    vect = TfidfVectorizer(min_df=3).fit(X_train)\n",
    "    \n",
    "    X_TrainVect_tfidf = vect.transform(X_train)\n",
    "    \n",
    "    model = MultinomialNB(alpha=0.1, fit_prior=True, class_prior=None) # instantiate NB Multinomial model.\n",
    "    model.fit(X_TrainVect_tfidf, y_train) # train the model with training data\n",
    "    \n",
    "    X_testVect_tfidf = vect.transform(X_test)\n",
    "    \n",
    "    NB_Prediction = model.predict(X_testVect_tfidf) # predict using the trained NB model on test data\n",
    "\n",
    "    aucScore = roc_auc_score(y_test, NB_Prediction)\n",
    "    \n",
    "    \n",
    "    return aucScore "
   ]
  },
  {
   "cell_type": "code",
   "execution_count": 64,
   "metadata": {},
   "outputs": [
    {
     "data": {
      "text/plain": [
       "0.9416243654822335"
      ]
     },
     "execution_count": 64,
     "metadata": {},
     "output_type": "execute_result"
    }
   ],
   "source": [
    "answer_five()"
   ]
  },
  {
   "cell_type": "markdown",
   "metadata": {},
   "source": [
    "### Question 6\n",
    "\n",
    "What is the average length of documents (number of characters) for not spam and spam documents?\n",
    "\n",
    "*This function should return a tuple (average length not spam, average length spam).*"
   ]
  },
  {
   "cell_type": "code",
   "execution_count": 65,
   "metadata": {},
   "outputs": [],
   "source": [
    "def answer_six():\n",
    "    \n",
    "    spamAvg = spam_data[spam_data['target'] == 1]['text'].apply(lambda x: len(x)).mean()\n",
    "    nonSpamAvg = spam_data[spam_data['target'] == 0]['text'].apply(lambda x: len(x)).mean()\n",
    "    \n",
    "    return (nonSpamAvg, spamAvg)\n",
    "\n"
   ]
  },
  {
   "cell_type": "code",
   "execution_count": 66,
   "metadata": {},
   "outputs": [
    {
     "data": {
      "text/plain": [
       "(71.02362694300518, 138.8661311914324)"
      ]
     },
     "execution_count": 66,
     "metadata": {},
     "output_type": "execute_result"
    }
   ],
   "source": [
    "answer_six()"
   ]
  },
  {
   "cell_type": "markdown",
   "metadata": {},
   "source": [
    "<br>\n",
    "<br>\n",
    "The following function has been provided to help you combine new features into the training data:"
   ]
  },
  {
   "cell_type": "code",
   "execution_count": 67,
   "metadata": {},
   "outputs": [],
   "source": [
    "def add_feature(X, feature_to_add):\n",
    "    \"\"\"\n",
    "    Returns sparse feature matrix with added feature.\n",
    "    feature_to_add can also be a list of features.\n",
    "    \"\"\"\n",
    "    from scipy.sparse import csr_matrix, hstack\n",
    "    return hstack([X, csr_matrix(feature_to_add).T], 'csr')"
   ]
  },
  {
   "cell_type": "markdown",
   "metadata": {},
   "source": [
    "### Question 7\n",
    "\n",
    "Fit and transform the training data X_train using a Tfidf Vectorizer ignoring terms that have a document frequency strictly lower than **5**.\n",
    "\n",
    "Using this document-term matrix and an additional feature, **the length of document (number of characters)**, fit a Support Vector Classification model with regularization `C=10000`. Then compute the area under the curve (AUC) score using the transformed test data.\n",
    "\n",
    "*This function should return the AUC score as a float.*"
   ]
  },
  {
   "cell_type": "code",
   "execution_count": 68,
   "metadata": {
    "scrolled": true
   },
   "outputs": [
    {
     "data": {
      "text/plain": [
       "(1393, 1468)"
      ]
     },
     "execution_count": 68,
     "metadata": {},
     "output_type": "execute_result"
    }
   ],
   "source": [
    "#X_TrainVect_tfidf.shape\n",
    "X_TestVect_tfidf.shape"
   ]
  },
  {
   "cell_type": "code",
   "execution_count": 69,
   "metadata": {},
   "outputs": [],
   "source": [
    "from sklearn.svm import SVC\n",
    "\n",
    "def answer_seven():\n",
    "    \n",
    "\n",
    "    vect = TfidfVectorizer(min_df=5).fit(X_train)\n",
    "\n",
    "    X_TrainVect_tfidf = vect.transform(X_train)\n",
    "    aa = list(X_train.agg(lambda x: len(x)))\n",
    "    X_train_addFeat = add_feature(X_TrainVect_tfidf, aa)\n",
    "\n",
    "\n",
    "    X_TestVect_tfidf = vect.transform(X_test)\n",
    "    bb = list(X_test.agg(lambda x: len(x)))\n",
    "    X_test_addFeat = add_feature(X_TestVect_tfidf, bb)\n",
    "\n",
    "\n",
    "\n",
    "    svc = SVC(C=10000).fit(X_train_addFeat, y_train)\n",
    "    prediction = svc.predict(X_test_addFeat)\n",
    "\n",
    "    aucScore = roc_auc_score(y_test, prediction)\n",
    "    \n",
    "      \n",
    "    return (aucScore)\n"
   ]
  },
  {
   "cell_type": "code",
   "execution_count": 70,
   "metadata": {},
   "outputs": [
    {
     "name": "stderr",
     "output_type": "stream",
     "text": [
      "C:\\Users\\rasheen1\\AppData\\Local\\Continuum\\anaconda3\\lib\\site-packages\\sklearn\\svm\\base.py:196: FutureWarning: The default value of gamma will change from 'auto' to 'scale' in version 0.22 to account better for unscaled features. Set gamma explicitly to 'auto' or 'scale' to avoid this warning.\n",
      "  \"avoid this warning.\", FutureWarning)\n"
     ]
    },
    {
     "data": {
      "text/plain": [
       "0.9581366823421557"
      ]
     },
     "execution_count": 70,
     "metadata": {},
     "output_type": "execute_result"
    }
   ],
   "source": [
    "answer_seven()"
   ]
  },
  {
   "cell_type": "markdown",
   "metadata": {},
   "source": [
    "### Question 8\n",
    "\n",
    "What is the average number of digits per document for not spam and spam documents?\n",
    "\n",
    "*This function should return a tuple (average # digits not spam, average # digits spam).*"
   ]
  },
  {
   "cell_type": "code",
   "execution_count": 125,
   "metadata": {},
   "outputs": [],
   "source": [
    "def answer_eight():\n",
    "    digit_spam = spam_data[spam_data['target'] == 1]['text'].str.count(r'\\d').mean()\n",
    "    digit_notSpam = spam_data[spam_data['target'] == 0]['text'].str.count(r'\\d').mean()\n",
    "\n",
    "    #below is less efficient iterative method:\n",
    "    # digit = []\n",
    "    # for line in spam_data[spam_data['target'] == 1]['text']:\n",
    "    #     digit.append(len(re.findall(r'\\d', line)))\n",
    "\n",
    "    # sum(digit)/len(digit)\n",
    "\n",
    "    return (digit_notSpam, digit_spam)\n",
    "\n"
   ]
  },
  {
   "cell_type": "code",
   "execution_count": 126,
   "metadata": {},
   "outputs": [
    {
     "data": {
      "text/plain": [
       "(0.2992746113989637, 15.759036144578314)"
      ]
     },
     "execution_count": 126,
     "metadata": {},
     "output_type": "execute_result"
    }
   ],
   "source": [
    "answer_eight()"
   ]
  },
  {
   "cell_type": "markdown",
   "metadata": {},
   "source": [
    "### Question 9\n",
    "\n",
    "Fit and transform the training data `X_train` using a Tfidf Vectorizer ignoring terms that have a document frequency strictly lower than **5** and using **word n-grams from n=1 to n=3** (unigrams, bigrams, and trigrams).\n",
    "\n",
    "Using this document-term matrix and the following additional features:\n",
    "* the length of document (number of characters)\n",
    "* **number of digits per document**\n",
    "\n",
    "fit a Logistic Regression model with regularization `C=100`. Then compute the area under the curve (AUC) score using the transformed test data.\n",
    "\n",
    "*This function should return the AUC score as a float.*"
   ]
  },
  {
   "cell_type": "code",
   "execution_count": 198,
   "metadata": {},
   "outputs": [],
   "source": [
    "from sklearn.linear_model import LogisticRegression\n",
    "\n",
    "def answer_nine():\n",
    "    \n",
    "    vect = TfidfVectorizer(min_df =5, ngram_range = (1,3)).fit(X_train)\n",
    "    X_TrainVect_tfidf = vect.transform(X_train)\n",
    "    \n",
    "    X_TestVect_tfidf = vect.transform(X_test)\n",
    "    \n",
    "    \n",
    "    \n",
    "    #additional features\n",
    "    aa = X_train.agg(lambda x: len(x))\n",
    "    bb = X_train.str.count(r'\\d')\n",
    "    X_train_addFeat = add_feature(X_TrainVect_tfidf, aa)\n",
    "    X_train_addFeat = add_feature(X_train_addFeat, bb)\n",
    "\n",
    "    \n",
    "    aa_t = X_test.agg(lambda x: len(x))\n",
    "    bb_t = X_test.str.count(r'\\d')\n",
    "    X_test_addFeat = add_feature(X_TestVect_tfidf, aa_t)\n",
    "    X_test_addFeat = add_feature(X_test_addFeat, bb_t)\n",
    "\n",
    "    \n",
    "    # Logistic Regression train and predict\n",
    "    \n",
    "    model = LogisticRegression(C=100)\n",
    "    model.fit(X_train_addFeat, y_train)\n",
    "\n",
    "    predictions = model.predict(X_test_addFeat)\n",
    "    \n",
    "    # AUC score\n",
    "    aucScore = roc_auc_score(y_test, predictions)\n",
    "    \n",
    "    return aucScore\n",
    "\n",
    "#type(X_train.str.count(r'\\d'))\n",
    "#type(X_train.agg(lambda x: len(x)))\n"
   ]
  },
  {
   "cell_type": "code",
   "execution_count": 199,
   "metadata": {},
   "outputs": [
    {
     "name": "stderr",
     "output_type": "stream",
     "text": [
      "C:\\Users\\rasheen1\\AppData\\Local\\Continuum\\anaconda3\\lib\\site-packages\\sklearn\\linear_model\\logistic.py:433: FutureWarning: Default solver will be changed to 'lbfgs' in 0.22. Specify a solver to silence this warning.\n",
      "  FutureWarning)\n"
     ]
    },
    {
     "data": {
      "text/plain": [
       "0.9653328353394565"
      ]
     },
     "execution_count": 199,
     "metadata": {},
     "output_type": "execute_result"
    }
   ],
   "source": [
    "answer_nine()"
   ]
  },
  {
   "cell_type": "markdown",
   "metadata": {},
   "source": [
    "### Question 10\n",
    "\n",
    "What is the average number of non-word characters (anything other than a letter, digit or underscore) per document for not spam and spam documents?\n",
    "\n",
    "*Hint: Use `\\w` and `\\W` character classes*\n",
    "\n",
    "*This function should return a tuple (average # non-word characters not spam, average # non-word characters spam).*"
   ]
  },
  {
   "cell_type": "code",
   "execution_count": 196,
   "metadata": {
    "scrolled": true
   },
   "outputs": [],
   "source": [
    "def answer_ten():\n",
    "    \n",
    "\n",
    "    avg_spam = spam_data[spam_data['target'] == 1]['text'].str.count(r'\\W').mean()\n",
    "    avg_notSpam = spam_data[spam_data['target'] == 0]['text'].str.count(r'\\W').mean()\n",
    "        \n",
    "    return (avg_notSpam, avg_spam)\n"
   ]
  },
  {
   "cell_type": "code",
   "execution_count": 197,
   "metadata": {},
   "outputs": [
    {
     "data": {
      "text/plain": [
       "(17.29181347150259, 29.041499330655956)"
      ]
     },
     "execution_count": 197,
     "metadata": {},
     "output_type": "execute_result"
    }
   ],
   "source": [
    "answer_ten()"
   ]
  },
  {
   "cell_type": "markdown",
   "metadata": {},
   "source": [
    "### Question 11\n",
    "\n",
    "Fit and transform the training data X_train using a Count Vectorizer ignoring terms that have a document frequency strictly lower than **5** and using **character n-grams from n=2 to n=5.**\n",
    "\n",
    "To tell Count Vectorizer to use character n-grams pass in `analyzer='char_wb'` which creates character n-grams only from text inside word boundaries. This should make the model more robust to spelling mistakes.\n",
    "\n",
    "Using this document-term matrix and the following additional features:\n",
    "* the length of document (number of characters)\n",
    "* number of digits per document\n",
    "* **number of non-word characters (anything other than a letter, digit or underscore.)**\n",
    "\n",
    "fit a Logistic Regression model with regularization C=100. Then compute the area under the curve (AUC) score using the transformed test data.\n",
    "\n",
    "Also **find the 10 smallest and 10 largest coefficients from the model** and return them along with the AUC score in a tuple.\n",
    "\n",
    "The list of 10 smallest coefficients should be sorted smallest first, the list of 10 largest coefficients should be sorted largest first.\n",
    "\n",
    "The three features that were added to the document term matrix should have the following names should they appear in the list of coefficients:\n",
    "['length_of_doc', 'digit_count', 'non_word_char_count']\n",
    "\n",
    "*This function should return a tuple `(AUC score as a float, smallest coefs list, largest coefs list)`.*"
   ]
  },
  {
   "cell_type": "code",
   "execution_count": 267,
   "metadata": {},
   "outputs": [],
   "source": [
    "def answer_eleven():\n",
    "    vect = CountVectorizer(min_df=5, analyzer = 'char_wb', ngram_range=(2,5)).fit(X_train)\n",
    "    X_trainVect = vect.transform(X_train)\n",
    "\n",
    "    X_testVect = vect.transform(X_test)\n",
    "\n",
    "\n",
    "    #additional features\n",
    "    aa = X_train.agg(lambda x: len(x))\n",
    "    bb = X_train.str.count(r'\\d')\n",
    "    cc = X_train.str.count(r'\\W')\n",
    "    X_train_addFeat = add_feature(X_trainVect, aa)\n",
    "    X_train_addFeat = add_feature(X_train_addFeat, bb)\n",
    "    X_train_addFeat = add_feature(X_train_addFeat, cc)\n",
    "\n",
    "    aa_t = X_test.agg(lambda x: len(x))\n",
    "    bb_t = X_test.str.count(r'\\d')\n",
    "    cc_t = X_test.str.count(r'\\W')\n",
    "    X_test_addFeat = add_feature(X_testVect, aa_t)\n",
    "    X_test_addFeat = add_feature(X_test_addFeat, bb_t)\n",
    "    X_test_addFeat = add_feature(X_test_addFeat, cc_t)\n",
    "\n",
    "\n",
    "    # Logistic Regression train and predict\n",
    "\n",
    "    model = LogisticRegression(C=100)\n",
    "    model.fit(X_train_addFeat, y_train)\n",
    "\n",
    "    predictions = model.predict(X_test_addFeat)\n",
    "\n",
    "    # AUC score\n",
    "    aucScore = roc_auc_score(y_test, predictions)\n",
    "    aucScore\n",
    "\n",
    "    # feature names\n",
    "\n",
    "    feature_names = np.array(vect.get_feature_names()) # array of feature names\n",
    "    feature_names = np.append(feature_names,values=['length_of_doc', 'digit_count', 'non_word_char_count'])\n",
    "\n",
    "    sorted_coef_index = model.coef_[0].argsort()\n",
    "    largest = list(feature_names[sorted_coef_index[:-11:-1]])\n",
    "    smallest = list(feature_names[sorted_coef_index[:10]])\n",
    "\n",
    "    \n",
    "    return (aucScore, smallest, largest)"
   ]
  },
  {
   "cell_type": "code",
   "execution_count": 268,
   "metadata": {},
   "outputs": [
    {
     "name": "stderr",
     "output_type": "stream",
     "text": [
      "C:\\Users\\rasheen1\\AppData\\Local\\Continuum\\anaconda3\\lib\\site-packages\\sklearn\\linear_model\\logistic.py:433: FutureWarning: Default solver will be changed to 'lbfgs' in 0.22. Specify a solver to silence this warning.\n",
      "  FutureWarning)\n"
     ]
    },
    {
     "data": {
      "text/plain": [
       "(0.9788593110707434,\n",
       " ['. ', '..', '? ', ' i', ' y', ' go', ':)', ' h', 'go', ' m'],\n",
       " ['digit_count', 'ne', 'ia', 'co', 'xt', ' ch', 'mob', ' x', 'ww', 'ar'])"
      ]
     },
     "execution_count": 268,
     "metadata": {},
     "output_type": "execute_result"
    }
   ],
   "source": [
    "answer_eleven()"
   ]
  }
 ],
 "metadata": {
  "coursera": {
   "course_slug": "python-text-mining",
   "graded_item_id": "Pn19K",
   "launcher_item_id": "y1juS",
   "part_id": "ctlgo"
  },
  "kernelspec": {
   "display_name": "Python 3",
   "language": "python",
   "name": "python3"
  },
  "language_info": {
   "codemirror_mode": {
    "name": "ipython",
    "version": 3
   },
   "file_extension": ".py",
   "mimetype": "text/x-python",
   "name": "python",
   "nbconvert_exporter": "python",
   "pygments_lexer": "ipython3",
   "version": "3.7.3"
  }
 },
 "nbformat": 4,
 "nbformat_minor": 2
}
