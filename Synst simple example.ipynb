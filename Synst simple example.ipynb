{
 "cells": [
  {
   "cell_type": "code",
   "execution_count": 113,
   "metadata": {},
   "outputs": [],
   "source": [
    "import numpy as np\n",
    "import nltk\n",
    "from nltk.corpus import wordnet as wn\n",
    "import pandas as pd"
   ]
  },
  {
   "cell_type": "code",
   "execution_count": 114,
   "metadata": {},
   "outputs": [
    {
     "name": "stdout",
     "output_type": "stream",
     "text": [
      "dog\n",
      "frump\n",
      "dog\n",
      "cad\n",
      "frank\n",
      "pawl\n",
      "andiron\n",
      "chase\n"
     ]
    }
   ],
   "source": [
    "for ss in wn.synsets('dog'):\n",
    "    print (ss.name().partition('.')[0])"
   ]
  },
  {
   "cell_type": "code",
   "execution_count": 246,
   "metadata": {},
   "outputs": [],
   "source": [
    "# Tokenize words using NLTK, find and convert POS tags to wordnet format and find synsets against each. \n",
    "\n",
    "def convert_tag(tag):\n",
    "    \"\"\"Convert the tag given by nltk.pos_tag to the tag used by wordnet.synsets\"\"\"\n",
    "    \n",
    "    tag_dict = {'N': 'n', 'J': 'a', 'R': 'r', 'V': 'v'}\n",
    "    try:\n",
    "        return tag_dict[tag[0]]\n",
    "    except KeyError:\n",
    "        return None\n",
    "\n",
    "\n",
    "def doc_to_synsets(doc):\n",
    "\n",
    "    from itertools import zip_longest\n",
    "\n",
    "    text = 'dog is barking sadans'\n",
    "    token = nltk.word_tokenize(text)\n",
    "    pos = nltk.pos_tag(token)\n",
    "    pos_ = [w[1] for w in pos]\n",
    "    pos_tag = [convert_tag(p) for p in pos_] # wordnet uses different format tags so need to convert, use dictionary\n",
    "    syn = []\n",
    "    for tk, po in zip_longest(token, pos_tag):\n",
    "        if wn.synsets(str(tk), pos=po):\n",
    "            syn.append(wn.synsets(str(tk), pos=po)[0]) # [0] to return the first match\n",
    "\n",
    "    return syn\n"
   ]
  },
  {
   "cell_type": "code",
   "execution_count": 247,
   "metadata": {},
   "outputs": [
    {
     "data": {
      "text/plain": [
       "[1.0, 1.0, 1.0]"
      ]
     },
     "execution_count": 247,
     "metadata": {},
     "output_type": "execute_result"
    }
   ],
   "source": [
    "# find path similarity between. For each synset in s1, finds the synset in s2 with the largest similarity value.\n",
    "\n",
    "similarity = []\n",
    "\n",
    "s1 = 'I like cats'\n",
    "s2 = 'I like dogs'\n",
    "s1 = doc_to_synsets(s1)\n",
    "s2 = doc_to_synsets(s2)\n",
    "\n",
    "for si in s1:\n",
    "    dis = 0\n",
    "    for sii in s2:\n",
    "        if si.path_similarity(sii):\n",
    "            sim = si.path_similarity(sii)\n",
    "        if dis < sim:\n",
    "            dis = sim\n",
    "    similarity.append(dis)\n",
    "similarity\n"
   ]
  },
  {
   "cell_type": "code",
   "execution_count": null,
   "metadata": {},
   "outputs": [],
   "source": []
  }
 ],
 "metadata": {
  "kernelspec": {
   "display_name": "Python 3",
   "language": "python",
   "name": "python3"
  },
  "language_info": {
   "codemirror_mode": {
    "name": "ipython",
    "version": 3
   },
   "file_extension": ".py",
   "mimetype": "text/x-python",
   "name": "python",
   "nbconvert_exporter": "python",
   "pygments_lexer": "ipython3",
   "version": "3.7.3"
  }
 },
 "nbformat": 4,
 "nbformat_minor": 2
}
